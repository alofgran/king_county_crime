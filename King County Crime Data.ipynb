{
 "cells": [
  {
   "cell_type": "markdown",
   "metadata": {},
   "source": [
    "# __King County Crime Data__\n",
    "\n",
    "__Purpose:__  Visualize the reported occurrences of criminal offenses in King County, Washington to draw insight from a large dataset.\n",
    "\n",
    "__Dataset:__  The dataset and partial dictionary can be found [here](https://moto.data.socrata.com/dataset/King-County-Sheriff-s-Office/4h35-4mtu).  The dataset should include 20 columns (_'address_2'_ and _'country'_ are missing, but that doesn't raise concern) and 15.6k rows.\n",
    "\n",
    "I'll start by investigating the dataset to see which columns will be most valuable, and whether or not those columns need cleaning."
   ]
  },
  {
   "cell_type": "code",
   "execution_count": 1,
   "metadata": {},
   "outputs": [],
   "source": [
    "import pandas as pd\n",
    "import matplotlib.pyplot as plt\n",
    "from sodapy import Socrata\n",
    "%matplotlib inline"
   ]
  },
  {
   "cell_type": "code",
   "execution_count": 2,
   "metadata": {},
   "outputs": [],
   "source": [
    "# All necessary data for import\n",
    "api_endpoint = 'moto.data.socrata.com'\n",
    "file = '4h35-4mtu'\n",
    "\n",
    "app_token = '4ojwRgJVVePHf8Ed0QVLClLdY'"
   ]
  },
  {
   "cell_type": "code",
   "execution_count": 3,
   "metadata": {},
   "outputs": [
    {
     "data": {
      "text/plain": [
       "<sodapy.Socrata at 0x1c34b2ec7f0>"
      ]
     },
     "execution_count": 3,
     "metadata": {},
     "output_type": "execute_result"
    }
   ],
   "source": [
    "client = Socrata(api_endpoint,\n",
    "                app_token)\n",
    "client"
   ]
  },
  {
   "cell_type": "code",
   "execution_count": 4,
   "metadata": {},
   "outputs": [],
   "source": [
    "results = client.get(file, limit = 20000)"
   ]
  },
  {
   "cell_type": "code",
   "execution_count": 5,
   "metadata": {},
   "outputs": [],
   "source": [
    "king_crime = pd.DataFrame.from_records(results)"
   ]
  },
  {
   "cell_type": "code",
   "execution_count": 6,
   "metadata": {},
   "outputs": [
    {
     "name": "stdout",
     "output_type": "stream",
     "text": [
      "<class 'pandas.core.frame.DataFrame'>\n",
      "RangeIndex: 15642 entries, 0 to 15641\n",
      "Data columns (total 18 columns):\n",
      "address_1                15642 non-null object\n",
      "case_number              15642 non-null object\n",
      "city                     15642 non-null object\n",
      "clearance_type           15642 non-null object\n",
      "created_at               15642 non-null object\n",
      "day_of_week              15642 non-null object\n",
      "hour_of_day              15642 non-null object\n",
      "incident_datetime        15642 non-null object\n",
      "incident_description     15642 non-null object\n",
      "incident_id              15642 non-null object\n",
      "incident_type_primary    15642 non-null object\n",
      "latitude                 15642 non-null object\n",
      "location                 15642 non-null object\n",
      "longitude                15642 non-null object\n",
      "parent_incident_type     15642 non-null object\n",
      "state                    15642 non-null object\n",
      "updated_at               15642 non-null object\n",
      "zip                      15381 non-null object\n",
      "dtypes: object(18)\n",
      "memory usage: 2.1+ MB\n"
     ]
    }
   ],
   "source": [
    "king_crime.info()"
   ]
  },
  {
   "cell_type": "code",
   "execution_count": 7,
   "metadata": {},
   "outputs": [
    {
     "data": {
      "text/html": [
       "<div>\n",
       "<style scoped>\n",
       "    .dataframe tbody tr th:only-of-type {\n",
       "        vertical-align: middle;\n",
       "    }\n",
       "\n",
       "    .dataframe tbody tr th {\n",
       "        vertical-align: top;\n",
       "    }\n",
       "\n",
       "    .dataframe thead th {\n",
       "        text-align: right;\n",
       "    }\n",
       "</style>\n",
       "<table border=\"1\" class=\"dataframe\">\n",
       "  <thead>\n",
       "    <tr style=\"text-align: right;\">\n",
       "      <th></th>\n",
       "      <th>address_1</th>\n",
       "      <th>case_number</th>\n",
       "      <th>city</th>\n",
       "      <th>clearance_type</th>\n",
       "      <th>created_at</th>\n",
       "      <th>day_of_week</th>\n",
       "      <th>hour_of_day</th>\n",
       "      <th>incident_datetime</th>\n",
       "      <th>incident_description</th>\n",
       "      <th>incident_id</th>\n",
       "      <th>incident_type_primary</th>\n",
       "      <th>latitude</th>\n",
       "      <th>location</th>\n",
       "      <th>longitude</th>\n",
       "      <th>parent_incident_type</th>\n",
       "      <th>state</th>\n",
       "      <th>updated_at</th>\n",
       "      <th>zip</th>\n",
       "    </tr>\n",
       "  </thead>\n",
       "  <tbody>\n",
       "    <tr>\n",
       "      <th>0</th>\n",
       "      <td>17700 Block SE 272ND ST</td>\n",
       "      <td>C18035936</td>\n",
       "      <td>COVINGTON</td>\n",
       "      <td></td>\n",
       "      <td>2019-08-14T14:05:52.000</td>\n",
       "      <td>Thursday</td>\n",
       "      <td>11</td>\n",
       "      <td>2018-08-30T11:55:00.000</td>\n",
       "      <td>222 - DEATH INVESTIGATION</td>\n",
       "      <td>934729865</td>\n",
       "      <td>222 - DEATH INVESTIGATION</td>\n",
       "      <td>47.35897440000001</td>\n",
       "      <td>{'type': 'Point', 'coordinates': [-122.1042083...</td>\n",
       "      <td>-122.1042083</td>\n",
       "      <td>Death</td>\n",
       "      <td>WA</td>\n",
       "      <td>2019-08-14T18:08:30.000</td>\n",
       "      <td>98042</td>\n",
       "    </tr>\n",
       "    <tr>\n",
       "      <th>1</th>\n",
       "      <td>AUBURN WAY S &amp; ACADEMY DR SE</td>\n",
       "      <td>C18051352</td>\n",
       "      <td>AUBURN</td>\n",
       "      <td></td>\n",
       "      <td>2019-08-14T14:45:41.000</td>\n",
       "      <td>Wednesday</td>\n",
       "      <td>11</td>\n",
       "      <td>2018-11-28T11:12:13.000</td>\n",
       "      <td>200 - CONTROLLED SUBSTANCE VIOLATION</td>\n",
       "      <td>934732420</td>\n",
       "      <td>200 - CONTROLLED SUBSTANCE VIOLATION</td>\n",
       "      <td>47.2749806</td>\n",
       "      <td>{'type': 'Point', 'coordinates': [-122.1550783...</td>\n",
       "      <td>-122.1550783</td>\n",
       "      <td>Drugs</td>\n",
       "      <td>WA</td>\n",
       "      <td>2019-08-14T16:47:00.000</td>\n",
       "      <td>98092</td>\n",
       "    </tr>\n",
       "    <tr>\n",
       "      <th>2</th>\n",
       "      <td>2100 Block AUBURN WAY S</td>\n",
       "      <td>C18052174</td>\n",
       "      <td>AUBURN</td>\n",
       "      <td></td>\n",
       "      <td>2019-08-14T14:55:45.000</td>\n",
       "      <td>Tuesday</td>\n",
       "      <td>8</td>\n",
       "      <td>2018-12-04T08:11:45.000</td>\n",
       "      <td>200 - CONTROLLED SUBSTANCE VIOLATION</td>\n",
       "      <td>934732725</td>\n",
       "      <td>200 - CONTROLLED SUBSTANCE VIOLATION</td>\n",
       "      <td>47.2889626</td>\n",
       "      <td>{'type': 'Point', 'coordinates': [-122.2009456...</td>\n",
       "      <td>-122.2009456</td>\n",
       "      <td>Drugs</td>\n",
       "      <td>WA</td>\n",
       "      <td>2019-08-14T16:47:00.000</td>\n",
       "      <td>98002</td>\n",
       "    </tr>\n",
       "    <tr>\n",
       "      <th>3</th>\n",
       "      <td>DOGWOOD ST SE &amp; FOREST RIDGE DR SE</td>\n",
       "      <td>C18053484</td>\n",
       "      <td>AUBURN</td>\n",
       "      <td></td>\n",
       "      <td>2019-08-14T14:55:45.000</td>\n",
       "      <td>Thursday</td>\n",
       "      <td>8</td>\n",
       "      <td>2018-12-13T08:27:00.000</td>\n",
       "      <td>200 - CONTROLLED SUBSTANCE VIOLATION</td>\n",
       "      <td>934732724</td>\n",
       "      <td>200 - CONTROLLED SUBSTANCE VIOLATION</td>\n",
       "      <td>47.2847659</td>\n",
       "      <td>{'type': 'Point', 'coordinates': [-122.1928085...</td>\n",
       "      <td>-122.1928085</td>\n",
       "      <td>Drugs</td>\n",
       "      <td>WA</td>\n",
       "      <td>2019-08-14T16:47:00.000</td>\n",
       "      <td>98002</td>\n",
       "    </tr>\n",
       "    <tr>\n",
       "      <th>4</th>\n",
       "      <td>18200 Block NE 205TH ST</td>\n",
       "      <td>C19030875</td>\n",
       "      <td>WOODINVILLE</td>\n",
       "      <td></td>\n",
       "      <td>2019-08-14T12:55:49.000</td>\n",
       "      <td>Tuesday</td>\n",
       "      <td>10</td>\n",
       "      <td>2019-01-01T10:00:00.000</td>\n",
       "      <td>274 - BURGLARY, RESIDENTIAL</td>\n",
       "      <td>934726959</td>\n",
       "      <td>274 - BURGLARY, RESIDENTIAL</td>\n",
       "      <td>47.7758139</td>\n",
       "      <td>{'type': 'Point', 'coordinates': [-122.0957525...</td>\n",
       "      <td>-122.0957525</td>\n",
       "      <td>Breaking &amp; Entering</td>\n",
       "      <td>WA</td>\n",
       "      <td>2019-08-14T17:56:56.000</td>\n",
       "      <td>98077</td>\n",
       "    </tr>\n",
       "  </tbody>\n",
       "</table>\n",
       "</div>"
      ],
      "text/plain": [
       "                            address_1 case_number         city clearance_type  \\\n",
       "0             17700 Block SE 272ND ST   C18035936    COVINGTON                  \n",
       "1        AUBURN WAY S & ACADEMY DR SE   C18051352       AUBURN                  \n",
       "2             2100 Block AUBURN WAY S   C18052174       AUBURN                  \n",
       "3  DOGWOOD ST SE & FOREST RIDGE DR SE   C18053484       AUBURN                  \n",
       "4             18200 Block NE 205TH ST   C19030875  WOODINVILLE                  \n",
       "\n",
       "                created_at day_of_week hour_of_day        incident_datetime  \\\n",
       "0  2019-08-14T14:05:52.000    Thursday          11  2018-08-30T11:55:00.000   \n",
       "1  2019-08-14T14:45:41.000   Wednesday          11  2018-11-28T11:12:13.000   \n",
       "2  2019-08-14T14:55:45.000     Tuesday           8  2018-12-04T08:11:45.000   \n",
       "3  2019-08-14T14:55:45.000    Thursday           8  2018-12-13T08:27:00.000   \n",
       "4  2019-08-14T12:55:49.000     Tuesday          10  2019-01-01T10:00:00.000   \n",
       "\n",
       "                   incident_description incident_id  \\\n",
       "0             222 - DEATH INVESTIGATION   934729865   \n",
       "1  200 - CONTROLLED SUBSTANCE VIOLATION   934732420   \n",
       "2  200 - CONTROLLED SUBSTANCE VIOLATION   934732725   \n",
       "3  200 - CONTROLLED SUBSTANCE VIOLATION   934732724   \n",
       "4           274 - BURGLARY, RESIDENTIAL   934726959   \n",
       "\n",
       "                  incident_type_primary           latitude  \\\n",
       "0             222 - DEATH INVESTIGATION  47.35897440000001   \n",
       "1  200 - CONTROLLED SUBSTANCE VIOLATION         47.2749806   \n",
       "2  200 - CONTROLLED SUBSTANCE VIOLATION         47.2889626   \n",
       "3  200 - CONTROLLED SUBSTANCE VIOLATION         47.2847659   \n",
       "4           274 - BURGLARY, RESIDENTIAL         47.7758139   \n",
       "\n",
       "                                            location     longitude  \\\n",
       "0  {'type': 'Point', 'coordinates': [-122.1042083...  -122.1042083   \n",
       "1  {'type': 'Point', 'coordinates': [-122.1550783...  -122.1550783   \n",
       "2  {'type': 'Point', 'coordinates': [-122.2009456...  -122.2009456   \n",
       "3  {'type': 'Point', 'coordinates': [-122.1928085...  -122.1928085   \n",
       "4  {'type': 'Point', 'coordinates': [-122.0957525...  -122.0957525   \n",
       "\n",
       "  parent_incident_type state               updated_at    zip  \n",
       "0                Death    WA  2019-08-14T18:08:30.000  98042  \n",
       "1                Drugs    WA  2019-08-14T16:47:00.000  98092  \n",
       "2                Drugs    WA  2019-08-14T16:47:00.000  98002  \n",
       "3                Drugs    WA  2019-08-14T16:47:00.000  98002  \n",
       "4  Breaking & Entering    WA  2019-08-14T17:56:56.000  98077  "
      ]
     },
     "execution_count": 7,
     "metadata": {},
     "output_type": "execute_result"
    }
   ],
   "source": [
    "king_crime.head()"
   ]
  },
  {
   "cell_type": "code",
   "execution_count": 8,
   "metadata": {},
   "outputs": [
    {
     "data": {
      "text/plain": [
       "288 - LARCENY, TFA - THEFT FROM AUTO                      866\n",
       "300 - THEFT, VEHICLE                                      850\n",
       "503 - CRIMINAL WARRANT, FELONY                            843\n",
       "112 - ASSAULT, SIMPLE                                     801\n",
       "274 - BURGLARY, RESIDENTIAL                               749\n",
       "511 - CRIMINAL WARRANT, MISDEMEANOR (OUTSIDE AGENCY)      714\n",
       "371 - MENTAL COMPLAINTS                                   654\n",
       "334 - VANDALISM UNDER $1500                               580\n",
       "377 - SUSPICIOUS CIRCUMSTANCES                            570\n",
       "311 - VEHICLE RECOVERY, OUTSIDE STOLEN OR NO CASE NO.     543\n",
       "332 - TRESPASS                                            498\n",
       "284 - LARCENY, OTHER                                      479\n",
       "504 - CRIMINAL WARRANT, MISDEMEANOR                       426\n",
       "222 - DEATH INVESTIGATION                                 328\n",
       "236 - VIOLATION OF COURT ORDERS                           313\n",
       "510 - CRIMINAL WARRANT, FELONY (OUTSIDE AGENCY)           281\n",
       "182 - FRAUD, ALL OTHER                                    240\n",
       "271 - BURGLARY, COMMERCIAL                                238\n",
       "234 - THREATS                                             231\n",
       "289 - LARCENY, TFB - THEFT FROM BUILDING                  219\n",
       "162 - DISTURBANCE, FAMILY                                 197\n",
       "101 - ASSAULT, AGGRAVATED (HANDS, FIST, FEET, ETC.)       197\n",
       "324 - PROPERTY, FOUND                                     195\n",
       "200 - CONTROLLED SUBSTANCE VIOLATION                      190\n",
       "404 - DUI                                                 182\n",
       "567 - WELFARE STATUS                                      179\n",
       "150 - SEXUAL OFFENDER REGISTRATION VIOLATION              150\n",
       "147 - SEX OFFENSE, NSC                                    149\n",
       "452 - FIRE INVESTIGATION, ACCIDENTAL                      137\n",
       "232 - SUICIDE, ATTEMPT                                    133\n",
       "                                                         ... \n",
       "411 - NEGLIGENT DRIVING                                     4\n",
       "594 - DISTURBANCE / REMOVAL FROM COURT / FACILITY           3\n",
       "156 - CHILD PORNOGRAPHY                                     3\n",
       "409 - HIT & RUN, PEDESTRIAN/BICYCLIST                       3\n",
       "211 - PROSTITUTION, ASSISTING OR PROMOTING/PIMPING          3\n",
       "612 - SUSPENSION NOTICE / EXCLUSION                         3\n",
       "550 - AREA CHECK (INCLUDES REQUESTS FOR PATROL)             3\n",
       "376 - CURFEW / LOITERING / VAGRANCY                         3\n",
       "242 - MURDER AND NON NEGLIGENT HOMICIDE                     3\n",
       "193 - IMPERSONATION                                         2\n",
       "636 - SUSPENSION NOTICE / EXCLUSION                         2\n",
       "210 - PROSTITUTION                                          2\n",
       "309 - RECOVERY, BOAT, OUTSIDE STOLEN OR NO CASE NO.         2\n",
       "413 - DEFECTIVE EQUIPMENT                                   2\n",
       "473 - BOATING UNDER THE INFLUENCE                           2\n",
       "488 - DERELICT/ABANDONED VESSEL INVESTIGATION               2\n",
       "627 - AREA CHECK, STATION / PLATFORM                        2\n",
       "414 - OTHER NON-MOVING VIOLATION                            2\n",
       "361 - ANIMAL CRUELTY                                        2\n",
       "650 - UNLAWFUL TRANSIT CONDUCT, SOUNDER                     2\n",
       "480 - MOORAGE VIOLATION                                     2\n",
       "187 - COMPUTER HACKING                                      2\n",
       "467 - BOAT ACCIDENT, NON-INJURY                             1\n",
       "628 - TRANSIT CENTER AREA CHECK                             1\n",
       "553 - CITIZEN ASSIST, DISABLED MOTORIST                     1\n",
       "476 - VESSEL REGISTRATION VIOLATION                         1\n",
       "215 - GAMBLING, NSC                                         1\n",
       "420 - SPEEDING (RADAR)                                      1\n",
       "457 - HARVESTING PERMIT / EQUIPMENT VIOLATION.              1\n",
       "355 - FIREWORKS (CONFISCATED/VIOLATION) (NOT NUISANCE)      1\n",
       "Name: incident_description, Length: 165, dtype: int64"
      ]
     },
     "execution_count": 8,
     "metadata": {},
     "output_type": "execute_result"
    }
   ],
   "source": [
    "king_crime['incident_description'].value_counts(dropna = False).sort_values(ascending = False)"
   ]
  },
  {
   "cell_type": "code",
   "execution_count": 14,
   "metadata": {},
   "outputs": [
    {
     "data": {
      "text/plain": [
       "Other                         5280\n",
       "Property Crime                1757\n",
       "Assault                       1208\n",
       "Theft from Vehicle             993\n",
       "Breaking & Entering            987\n",
       "Theft                          979\n",
       "Theft of Vehicle               850\n",
       "Traffic                        563\n",
       "Vehicle Recovery               545\n",
       "Other Sexual Offense           454\n",
       "Community Policing             367\n",
       "Death                          328\n",
       "Drugs                          325\n",
       "Disorder                       225\n",
       "Robbery                        161\n",
       "Fire                           160\n",
       "Weapons Offense                130\n",
       "Liquor                          86\n",
       "Sexual Assault                  76\n",
       "Arson                           65\n",
       "Assault with Deadly Weapon      53\n",
       "Missing Person                  40\n",
       "Kidnapping                       7\n",
       "Homicide                         3\n",
       "Name: parent_incident_type, dtype: int64"
      ]
     },
     "execution_count": 14,
     "metadata": {},
     "output_type": "execute_result"
    }
   ],
   "source": [
    "king_crime['parent_incident_type'].value_counts(dropna = False).sort_values(ascending = False)"
   ]
  },
  {
   "cell_type": "code",
   "execution_count": 20,
   "metadata": {},
   "outputs": [
    {
     "data": {
      "text/plain": [
       "24"
      ]
     },
     "execution_count": 20,
     "metadata": {},
     "output_type": "execute_result"
    }
   ],
   "source": [
    "# No. of unique values in 'parent_incident_type' column\n",
    "len(king_crime['parent_incident_type'].value_counts(dropna = False))"
   ]
  },
  {
   "cell_type": "code",
   "execution_count": 17,
   "metadata": {},
   "outputs": [
    {
     "data": {
      "text/plain": [
       "503 - CRIMINAL WARRANT, FELONY                                    843\n",
       "511 - CRIMINAL WARRANT, MISDEMEANOR (OUTSIDE AGENCY)              714\n",
       "371 - MENTAL COMPLAINTS                                           654\n",
       "377 - SUSPICIOUS CIRCUMSTANCES                                    570\n",
       "504 - CRIMINAL WARRANT, MISDEMEANOR                               426\n",
       "236 - VIOLATION OF COURT ORDERS                                   313\n",
       "510 - CRIMINAL WARRANT, FELONY (OUTSIDE AGENCY)                   281\n",
       "234 - THREATS                                                     231\n",
       "162 - DISTURBANCE, FAMILY                                         197\n",
       "324 - PROPERTY, FOUND                                             195\n",
       "232 - SUICIDE, ATTEMPT                                            133\n",
       "422 - ATTEMPTING TO ELUDE (FELONY FLIGHT)                         101\n",
       "315 - PROWLER, VEHICLE                                             83\n",
       "169 - CPS REFERRAL                                                 72\n",
       "227 - OBSTRUCTING AN OFFICER                                       68\n",
       "323 - PROPERTY, LOST                                               66\n",
       "325 - PROPERTY, CONFISCATED                                        58\n",
       "231 - STALKING / HARASSMENT                                        57\n",
       "165 - CUSTODIAL INTERFERENCE                                       32\n",
       "360 - ANIMAL PROBLEM / EUTHANASIA                                  26\n",
       "360 - ANIMAL PROBLEM (INCLUDING DOG BITES)                         26\n",
       "321 - BICYCLE, FOUND                                               18\n",
       "350 - BOMBING                                                      17\n",
       "429 - INCIDENT, NSC (OTHER THAN ACCIDENT)                          16\n",
       "161 - CHILD NEGLECT                                                15\n",
       "238 - MALICIOUS HARASSMENT                                         13\n",
       "166 - ELDERLY OR DEPENDENT ABUSE                                   10\n",
       "374 - PHONE CALLS, INDECENT OR NUISANCE (NOT THREATS)               9\n",
       "351 - BOMB THREAT                                                   7\n",
       "229 - RECKLESS ENDANGERMENT                                         6\n",
       "353 - BOMB, SUSPICIOUS PACKAGE                                      5\n",
       "224 - ESCAPE FROM CUSTODY                                           4\n",
       "322 - BICYCLE, RECOVERED STOLEN, OUTSIDE STOLEN OR NO CASE NO.      4\n",
       "358 - BOMB MAKING/POSSESSION                                        4\n",
       "488 - DERELICT/ABANDONED VESSEL INVESTIGATION                       2\n",
       "361 - ANIMAL CRUELTY                                                2\n",
       "355 - FIREWORKS (CONFISCATED/VIOLATION) (NOT NUISANCE)              1\n",
       "215 - GAMBLING, NSC                                                 1\n",
       "Name: incident_description, dtype: int64"
      ]
     },
     "execution_count": 17,
     "metadata": {},
     "output_type": "execute_result"
    }
   ],
   "source": [
    "# Distribution of crimes with parent_incident_type of 'Other'\n",
    "mask = king_crime[king_crime['parent_incident_type']=='Other']\n",
    "mask['incident_description'].value_counts(dropna = False)"
   ]
  },
  {
   "cell_type": "code",
   "execution_count": 21,
   "metadata": {},
   "outputs": [
    {
     "data": {
      "text/plain": [
       "38"
      ]
     },
     "execution_count": 21,
     "metadata": {},
     "output_type": "execute_result"
    }
   ],
   "source": [
    "# No. of unique values in 'incident_description' column\n",
    "len(mask['incident_description'].value_counts(dropna = False))"
   ]
  },
  {
   "cell_type": "code",
   "execution_count": 54,
   "metadata": {},
   "outputs": [
    {
     "ename": "TypeError",
     "evalue": "ufunc 'isnan' not supported for the input types, and the inputs could not be safely coerced to any supported types according to the casting rule ''safe''",
     "output_type": "error",
     "traceback": [
      "\u001b[1;31m---------------------------------------------------------------------------\u001b[0m",
      "\u001b[1;31mTypeError\u001b[0m                                 Traceback (most recent call last)",
      "\u001b[1;32m<ipython-input-54-da7e385268ff>\u001b[0m in \u001b[0;36m<module>\u001b[1;34m\u001b[0m\n\u001b[0;32m      4\u001b[0m \u001b[1;31m# Plotting crimes by zip code and city name\u001b[0m\u001b[1;33m\u001b[0m\u001b[1;33m\u001b[0m\u001b[1;33m\u001b[0m\u001b[0m\n\u001b[0;32m      5\u001b[0m \u001b[0mfig\u001b[0m\u001b[1;33m,\u001b[0m \u001b[0max\u001b[0m \u001b[1;33m=\u001b[0m \u001b[0mplt\u001b[0m\u001b[1;33m.\u001b[0m\u001b[0msubplots\u001b[0m\u001b[1;33m(\u001b[0m\u001b[0mfigsize\u001b[0m \u001b[1;33m=\u001b[0m \u001b[1;33m(\u001b[0m\u001b[1;36m14\u001b[0m\u001b[1;33m,\u001b[0m\u001b[1;36m14\u001b[0m\u001b[1;33m)\u001b[0m\u001b[1;33m)\u001b[0m\u001b[1;33m\u001b[0m\u001b[1;33m\u001b[0m\u001b[0m\n\u001b[1;32m----> 6\u001b[1;33m \u001b[0max\u001b[0m \u001b[1;33m=\u001b[0m \u001b[0msns\u001b[0m\u001b[1;33m.\u001b[0m\u001b[0mheatmap\u001b[0m\u001b[1;33m(\u001b[0m\u001b[0mpivot\u001b[0m\u001b[1;33m)\u001b[0m\u001b[1;33m\u001b[0m\u001b[1;33m\u001b[0m\u001b[0m\n\u001b[0m\u001b[0;32m      7\u001b[0m \u001b[1;31m# ax = set_xticklabels(rotation = 30)\u001b[0m\u001b[1;33m\u001b[0m\u001b[1;33m\u001b[0m\u001b[1;33m\u001b[0m\u001b[0m\n",
      "\u001b[1;32mC:\\Anaconda\\lib\\site-packages\\seaborn\\matrix.py\u001b[0m in \u001b[0;36mheatmap\u001b[1;34m(data, vmin, vmax, cmap, center, robust, annot, fmt, annot_kws, linewidths, linecolor, cbar, cbar_kws, cbar_ax, square, xticklabels, yticklabels, mask, ax, **kwargs)\u001b[0m\n\u001b[0;32m    515\u001b[0m     plotter = _HeatMapper(data, vmin, vmax, cmap, center, robust, annot, fmt,\n\u001b[0;32m    516\u001b[0m                           \u001b[0mannot_kws\u001b[0m\u001b[1;33m,\u001b[0m \u001b[0mcbar\u001b[0m\u001b[1;33m,\u001b[0m \u001b[0mcbar_kws\u001b[0m\u001b[1;33m,\u001b[0m \u001b[0mxticklabels\u001b[0m\u001b[1;33m,\u001b[0m\u001b[1;33m\u001b[0m\u001b[1;33m\u001b[0m\u001b[0m\n\u001b[1;32m--> 517\u001b[1;33m                           yticklabels, mask)\n\u001b[0m\u001b[0;32m    518\u001b[0m \u001b[1;33m\u001b[0m\u001b[0m\n\u001b[0;32m    519\u001b[0m     \u001b[1;31m# Add the pcolormesh kwargs here\u001b[0m\u001b[1;33m\u001b[0m\u001b[1;33m\u001b[0m\u001b[1;33m\u001b[0m\u001b[0m\n",
      "\u001b[1;32mC:\\Anaconda\\lib\\site-packages\\seaborn\\matrix.py\u001b[0m in \u001b[0;36m__init__\u001b[1;34m(self, data, vmin, vmax, cmap, center, robust, annot, fmt, annot_kws, cbar, cbar_kws, xticklabels, yticklabels, mask)\u001b[0m\n\u001b[0;32m    165\u001b[0m         \u001b[1;31m# Determine good default values for the colormapping\u001b[0m\u001b[1;33m\u001b[0m\u001b[1;33m\u001b[0m\u001b[1;33m\u001b[0m\u001b[0m\n\u001b[0;32m    166\u001b[0m         self._determine_cmap_params(plot_data, vmin, vmax,\n\u001b[1;32m--> 167\u001b[1;33m                                     cmap, center, robust)\n\u001b[0m\u001b[0;32m    168\u001b[0m \u001b[1;33m\u001b[0m\u001b[0m\n\u001b[0;32m    169\u001b[0m         \u001b[1;31m# Sort out the annotations\u001b[0m\u001b[1;33m\u001b[0m\u001b[1;33m\u001b[0m\u001b[1;33m\u001b[0m\u001b[0m\n",
      "\u001b[1;32mC:\\Anaconda\\lib\\site-packages\\seaborn\\matrix.py\u001b[0m in \u001b[0;36m_determine_cmap_params\u001b[1;34m(self, plot_data, vmin, vmax, cmap, center, robust)\u001b[0m\n\u001b[0;32m    202\u001b[0m                                cmap, center, robust):\n\u001b[0;32m    203\u001b[0m         \u001b[1;34m\"\"\"Use some heuristics to set good defaults for colorbar and range.\"\"\"\u001b[0m\u001b[1;33m\u001b[0m\u001b[1;33m\u001b[0m\u001b[0m\n\u001b[1;32m--> 204\u001b[1;33m         \u001b[0mcalc_data\u001b[0m \u001b[1;33m=\u001b[0m \u001b[0mplot_data\u001b[0m\u001b[1;33m.\u001b[0m\u001b[0mdata\u001b[0m\u001b[1;33m[\u001b[0m\u001b[1;33m~\u001b[0m\u001b[0mnp\u001b[0m\u001b[1;33m.\u001b[0m\u001b[0misnan\u001b[0m\u001b[1;33m(\u001b[0m\u001b[0mplot_data\u001b[0m\u001b[1;33m.\u001b[0m\u001b[0mdata\u001b[0m\u001b[1;33m)\u001b[0m\u001b[1;33m]\u001b[0m\u001b[1;33m\u001b[0m\u001b[1;33m\u001b[0m\u001b[0m\n\u001b[0m\u001b[0;32m    205\u001b[0m         \u001b[1;32mif\u001b[0m \u001b[0mvmin\u001b[0m \u001b[1;32mis\u001b[0m \u001b[1;32mNone\u001b[0m\u001b[1;33m:\u001b[0m\u001b[1;33m\u001b[0m\u001b[1;33m\u001b[0m\u001b[0m\n\u001b[0;32m    206\u001b[0m             \u001b[0mvmin\u001b[0m \u001b[1;33m=\u001b[0m \u001b[0mnp\u001b[0m\u001b[1;33m.\u001b[0m\u001b[0mpercentile\u001b[0m\u001b[1;33m(\u001b[0m\u001b[0mcalc_data\u001b[0m\u001b[1;33m,\u001b[0m \u001b[1;36m2\u001b[0m\u001b[1;33m)\u001b[0m \u001b[1;32mif\u001b[0m \u001b[0mrobust\u001b[0m \u001b[1;32melse\u001b[0m \u001b[0mcalc_data\u001b[0m\u001b[1;33m.\u001b[0m\u001b[0mmin\u001b[0m\u001b[1;33m(\u001b[0m\u001b[1;33m)\u001b[0m\u001b[1;33m\u001b[0m\u001b[1;33m\u001b[0m\u001b[0m\n",
      "\u001b[1;31mTypeError\u001b[0m: ufunc 'isnan' not supported for the input types, and the inputs could not be safely coerced to any supported types according to the casting rule ''safe''"
     ]
    },
    {
     "data": {
      "image/png": "[encoded data removed]",
      "text/plain": [
       "<Figure size 1008x1008 with 1 Axes>"
      ]
     },
     "metadata": {
      "needs_background": "light"
     },
     "output_type": "display_data"
    }
   ],
   "source": [
    "import seaborn as sns\n",
    "\n",
    "# Privot data\n",
    "pivot = king_crime.pivot(columns = 'zip', values = 'city')\n",
    "# Plotting crimes by zip code and city name\n",
    "fig, ax = plt.subplots(figsize = (14,14))\n",
    "ax = sns.heatmap(pivot)\n",
    "# ax = set_xticklabels(rotation = 30)\n"
   ]
  },
  {
   "cell_type": "markdown",
   "metadata": {},
   "source": [
    "# __Initial Evaluation__\n",
    "\n",
    "* _incident_description_ contains 165 unique values\n",
    "* _parent_incident_type_ contains 24 unique values\n",
    "    * Of these 24 types, one is labeled 'Other'.  This 'Other' type contains 38 of the 165 value-categories of the 165 incident_description in the column"
   ]
  },
  {
   "cell_type": "code",
   "execution_count": null,
   "metadata": {},
   "outputs": [],
   "source": []
  }
 ],
 "metadata": {
  "kernelspec": {
   "display_name": "Python 3",
   "language": "python",
   "name": "python3"
  },
  "language_info": {
   "codemirror_mode": {
    "name": "ipython",
    "version": 3
   },
   "file_extension": ".py",
   "mimetype": "text/x-python",
   "name": "python",
   "nbconvert_exporter": "python",
   "pygments_lexer": "ipython3",
   "version": "3.7.1"
  }
 },
 "nbformat": 4,
 "nbformat_minor": 4
}
